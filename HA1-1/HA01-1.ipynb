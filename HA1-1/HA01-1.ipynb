{
 "cells": [
  {
   "cell_type": "markdown",
   "metadata": {},
   "source": [
    "# HA01-1\n",
    "### Obtain data of fission cross sections for $^{235}$U and $^{238}$U as a function of energy and plot them. ###"
   ]
  },
  {
   "cell_type": "markdown",
   "metadata": {},
   "source": [
    "To run this notebook you need to use a computer which has Jupyter installed. You can run it from all computers in the computer labs at Ångström. If you prefere to use our own computer the easiest way to install Jupyter is to use the [Anaconda](https://www.anaconda.com/distribution/) platform."
   ]
  },
  {
   "cell_type": "markdown",
   "metadata": {},
   "source": [
    "Cross sections can be readily obtained from repositories sources such as: [NNDC](https://www.nndc.bnl.gov/exfor/endf00.jsp) or [IAEA](https://www-nds.iaea.org/exfor/endf.htm). However, the perhaps most user friendly source is the Nuclear Data Center at the Korea Atomic Energy Research Institute [(KAERI)](http://atom.kaeri.re.kr/nuchart/).\n",
    "\n",
    "An alternative is the application [JANIS](https://www.oecd-nea.org/janis/) from NEA that can either be run in the web browser or downloaded as a standalone tool.\n",
    "\n",
    "Familiarize yourself with one or more of the the repositories by ploting and comparing the fission and capture cross sections of $^{235}$U and $^{238}$U. For example, at the KAERI page you can compare cross sections by plotting them in the same graph using the XSViewer. Add a gragh to the XSViewer by loading it and press the button *Add to XSViewer*. After you have added multiple graphs you can view them in the same plot by pressing *Open XSViewer*.\n",
    "\n",
    "There are multiple sources of data available, such as ENDF/B (USA), JENDL (Japan), JEFF (European). You can compare the different sources but for the exercize you should use JEFF-3.2. "
   ]
  },
  {
   "cell_type": "markdown",
   "metadata": {},
   "source": [
    "**Extract the data from one of the sources and plot it in Python (or your own choice of data analysis software).**\n",
    "\n",
    "You can extract the data from KAERI by pressing *Get Data*. Mark, copy and past the data into a text document and save it in the same folder as this Notebook. In this folder there is already data for $^{235}$U in files called *U235_xs_nf.txt* and *U235_xs_cap.txt*. Extract the data for $^{238}$U."
   ]
  },
  {
   "cell_type": "markdown",
   "metadata": {},
   "source": [
    "To import the data into Python and plot it we first need to import two libraries, *numpy* and *matplotlib*. Mark the cell below and execute it by pressing *Shift*+*Enter*."
   ]
  },
  {
   "cell_type": "code",
   "execution_count": null,
   "metadata": {},
   "outputs": [],
   "source": [
    "import numpy as np # We can now use numpy functions calling np\n",
    "import matplotlib.pyplot as plt # We can now use matplotlib functions calling plt"
   ]
  },
  {
   "cell_type": "markdown",
   "metadata": {},
   "source": [
    "We can now load the data using the *numpy* function *loadtxt*. Below is an example for the $^{235}$U data."
   ]
  },
  {
   "cell_type": "code",
   "execution_count": null,
   "metadata": {},
   "outputs": [],
   "source": [
    "U235_xs_nf = np.loadtxt('U235_xs_nf.csv', skiprows=3) # Use skiprows to skip header lines\n",
    "U235_xs_cap = np.loadtxt('U235_xs_cap.csv', skiprows=3)\n",
    "\n",
    "# Add rows to also load the U238 data."
   ]
  },
  {
   "cell_type": "markdown",
   "metadata": {},
   "source": [
    "The data is now in the form of two-dimensional arrays with 40860 Energies in the 0:th column and 40860 cross sections in the 1:st column."
   ]
  },
  {
   "cell_type": "code",
   "execution_count": null,
   "metadata": {},
   "outputs": [],
   "source": [
    "U235_xs_nf.shape"
   ]
  },
  {
   "cell_type": "markdown",
   "metadata": {},
   "source": [
    "**Add rows above to also load the $^{238}U$ data.**"
   ]
  },
  {
   "cell_type": "markdown",
   "metadata": {},
   "source": [
    "We can address an individual colum (variable) using U235_xs_nf[:,i], where i is the column number (0 or 1). We plot it using the *pyplot* function *loglog*."
   ]
  },
  {
   "cell_type": "code",
   "execution_count": null,
   "metadata": {},
   "outputs": [],
   "source": [
    "plt.loglog(U235_xs_nf[:,0],U235_xs_nf[:,1],'r-',label='$^{235}$U $\\sigma_f$') # label set the label for the legend.\n",
    "\n",
    "# Add rows here to plot the other cross sections in the same plot\n",
    "plt.loglog(U235_xs_cap[:,0],U235_xs_cap[:,1],'r--',label='$^{235}$U $\\sigma_c$') # By students\n",
    "plt.loglog(U238_xs_nf[:,0],U238_xs_nf[:,1],'b-',label='$^{238}$U $\\sigma_f$') # By students\n",
    "plt.loglog(U238_xs_cap[:,0],U238_xs_cap[:,1],'b--',label='$^{238}$U $\\sigma_c$') # By students\n",
    "\n",
    "plt.grid() # Adds grid lines\n",
    "plt.legend() # Shows the legend\n",
    "plt.xlabel('Energy (eV)') # Titel for the x-axis\n",
    "plt.ylabel('Cross section (barn)') # Titel for the y-axis\n",
    "plt.show()"
   ]
  },
  {
   "cell_type": "markdown",
   "metadata": {},
   "source": [
    "The function *loglog* is a version of the *pyplot* function *plot* which plots with both axis in logarithmic scale. You can find more information about *plot* here: [pyplot.plot](https://matplotlib.org/3.1.1/api/_as_gen/matplotlib.pyplot.plot.html#matplotlib.pyplot.plot)."
   ]
  },
  {
   "cell_type": "markdown",
   "metadata": {},
   "source": [
    "**Plot the other cross sections in the same diagram. Change line styles and colors so that the lines can be distinguished.**"
   ]
  },
  {
   "cell_type": "markdown",
   "metadata": {},
   "source": [
    "Unfortunatly, the data files you have loaded have different number of energies and energy-steps. This means that if we want to do pointwize comparisons or calculations using the data we need to resample it to be evaluated at the same energies. This can be done by interpolation using the numpy function *interp*. First we create an array with the energies at which we would like to know the crossesctions."
   ]
  },
  {
   "cell_type": "code",
   "execution_count": null,
   "metadata": {},
   "outputs": [],
   "source": [
    "# Create an array with 100.000 energypoints logarthimically spaced between 10^-5 and 10^7.\n",
    "E = np.logspace(-5, 7, 100000)\n",
    "# Do the interpolation\n",
    "U235_nf = np.interp(E,U235_xs_nf[:,0],U235_xs_nf[:,1])\n",
    "\n",
    "# Add rows here for the other data sets\n"
   ]
  },
  {
   "cell_type": "markdown",
   "metadata": {},
   "source": [
    "**Add rows above to also interpolate the other data at the same energies.**"
   ]
  },
  {
   "cell_type": "markdown",
   "metadata": {},
   "source": [
    "Plot the interpolated data to make sure it looks the same as the original."
   ]
  },
  {
   "cell_type": "code",
   "execution_count": null,
   "metadata": {},
   "outputs": [],
   "source": [
    "plt.loglog(E,U235_nf,'r-',label='$^{235}$U $\\sigma_f$')\n",
    "\n",
    "# Add rows here to plot the other cross sections in the same plot\n",
    "plt.loglog(E,U235_cap,'r--',label='$^{235}$U $\\sigma_c$') # By students\n",
    "plt.loglog(E,U238_nf,'b-',label='$^{235}$U $\\sigma_f$') # By students\n",
    "plt.loglog(E,U238_cap,'b--',label='$^{235}$U $\\sigma_c$') # By students\n",
    "\n",
    "plt.grid()\n",
    "plt.legend()\n",
    "plt.xlabel('Energy / eV')\n",
    "plt.ylabel('$\\sigma$ / barn')\n",
    "plt.show()"
   ]
  },
  {
   "cell_type": "markdown",
   "metadata": {},
   "source": [
    "From the microscoptic cross sections we can calculate the macroscopic cross sections."
   ]
  },
  {
   "cell_type": "markdown",
   "metadata": {},
   "source": [
    "**Calculate and the mactroscopic cross sections for pure $^{238}U$ and $^{235}U$ as a function of neutron energy.**"
   ]
  },
  {
   "cell_type": "code",
   "execution_count": null,
   "metadata": {},
   "outputs": [],
   "source": [
    "#U235_NF = U235_nf * # continue this calculation\n"
   ]
  },
  {
   "cell_type": "markdown",
   "metadata": {},
   "source": [
    "**Plot the macroscopic cross sections**"
   ]
  },
  {
   "cell_type": "code",
   "execution_count": null,
   "metadata": {
    "scrolled": true
   },
   "outputs": [],
   "source": [
    "plt.loglog(E,U235_NF,'r-',label='$^{235}$U $\\Sigma_f$')\n",
    "# Add rows here\n",
    "\n",
    "\n",
    "plt.grid()\n",
    "plt.legend()\n",
    "plt.xlabel('Energy / eV')\n",
    "plt.ylabel('$\\Sigma$ / cm$^{-1}$')\n",
    "plt.show()"
   ]
  },
  {
   "cell_type": "markdown",
   "metadata": {},
   "source": [
    "Whether or not a self-sustained chain reaction can be achieved is governed by the competition between neutron absoprtion and fission.\n",
    "\n",
    "**Calculate (from the fission and capture cross sections) the macroscopic absorption cross sections for $^{235}$U and $^{238}$U and plot together with the fission cross sections.**"
   ]
  },
  {
   "cell_type": "code",
   "execution_count": null,
   "metadata": {},
   "outputs": [],
   "source": [
    "# U235_ABS = continue here...\n"
   ]
  },
  {
   "cell_type": "code",
   "execution_count": null,
   "metadata": {},
   "outputs": [],
   "source": [
    "plt.loglog(E,U235_NF,'r-',label='$^{235}$U $\\Sigma_f$')\n",
    "# Add rows here\n",
    "\n",
    "\n",
    "plt.grid()\n",
    "plt.legend()\n",
    "plt.xlabel('Energy / eV')\n",
    "plt.ylabel('$\\Sigma$ / cm$^{-1}$')\n",
    "plt.show()"
   ]
  },
  {
   "cell_type": "markdown",
   "metadata": {},
   "source": [
    "Natural uranium ($^{\\mathrm{nat}}$U) consists of 0.7% $^{235}$U and the rest is $^{238}$U.\\\n",
    "**Plot the mactroscopic cross sections, fission and absorption, of $^{nat}U$ as a function of neutron energy.**"
   ]
  },
  {
   "cell_type": "code",
   "execution_count": null,
   "metadata": {},
   "outputs": [],
   "source": [
    "# Put your code here..."
   ]
  },
  {
   "cell_type": "markdown",
   "metadata": {},
   "source": [
    "The reproduction factor, $\\eta(E)$, is the average number of fission neutrons produced per neutron absorbed. This is an important parameter when determining a reactor's neutron economy. To calculate it we need to know the average neutron multiplicity, $\\bar{\\nu}$. However, the neutron multiplicity depends on the material and the energy of the incoming neutron. Data for this can be found in the data tables. To help you we provide below a code to read this data from a text file (JEFF3.3) and interpolate to the same eneries as the cross sections.\n",
    "\n",
    "**Plot the neutron multiplicity for $^{235}$U and $^{238}$U as a function of energy**"
   ]
  },
  {
   "cell_type": "code",
   "execution_count": null,
   "metadata": {},
   "outputs": [],
   "source": [
    "nubar = np.loadtxt('U5_U8_nubar.csv', skiprows=3) # Use skiprows to skip header lines\n",
    "U235_nubar = np.interp(E,nubar[:,0],nubar[:,1])\n",
    "U238_nubar = np.interp(E,nubar[:,0],nubar[:,2])\n",
    "# Plot nubar here..."
   ]
  },
  {
   "cell_type": "markdown",
   "metadata": {},
   "source": [
    "**Calculate and plot the reproduction factor for natural uranium as well as for two different enrichments.**"
   ]
  },
  {
   "cell_type": "code",
   "execution_count": null,
   "metadata": {},
   "outputs": [],
   "source": [
    "# Put your code here..."
   ]
  },
  {
   "cell_type": "markdown",
   "metadata": {},
   "source": [
    "--------------"
   ]
  }
 ],
 "metadata": {
  "kernelspec": {
   "display_name": "Python 3",
   "language": "python",
   "name": "python3"
  },
  "language_info": {
   "codemirror_mode": {
    "name": "ipython",
    "version": 3
   },
   "file_extension": ".py",
   "mimetype": "text/x-python",
   "name": "python",
   "nbconvert_exporter": "python",
   "pygments_lexer": "ipython3",
   "version": "3.7.4"
  }
 },
 "nbformat": 4,
 "nbformat_minor": 2
}
