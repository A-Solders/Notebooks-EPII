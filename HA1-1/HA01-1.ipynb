{
 "cells": [
  {
   "cell_type": "markdown",
   "metadata": {},
   "source": [
    "# HA01-1\n",
    "### Obtain data of fission cross sections for $^{235}$U and $^{238}$U as a function of energy and plot them. ###"
   ]
  },
  {
   "cell_type": "markdown",
   "metadata": {},
   "source": [
    "To run this notebook you need to use a computer which has Jupyter installed. The easiest way to install Jupyter is to use the [Anaconda](https://www.anaconda.com/distribution/) platform."
   ]
  },
  {
   "cell_type": "markdown",
   "metadata": {},
   "source": [
    "Cross sections can be readily obtained from repositories sources such as: [NNDC](https://www.nndc.bnl.gov/exfor/endf00.jsp) or [IAEA](https://www-nds.iaea.org/exfor/endf.htm). However, the perhaps most user friendly source is the [Nuclear Data Center at the Korea Atomic Energy Research Institute (KAERI)](http://atom.kaeri.re.kr/nuchart/).\n",
    "\n",
    "An alternative is the application [JANIS](https://www.oecd-nea.org/janis/) from NEA that can either be run in the web browser or donwloaded as a standalone tool.\n",
    "\n",
    "Familiarize yourself with one or more of the the repositories by ploting and comparing the fission and capture cross sections of $^{235}$U and $^{238}$U. For example, at the KAERI page you can compare cross sections by plotting them in the same graph using the XSViewer. Add a gragh to the XSViewer by loading it and press the button *Add to XSViewer*. After you have added multiple graphs you can view them in the same plot by pressing *Open XSViewer*.\n",
    "\n",
    "There are multiple sources of data available, such as ENDF/B (USA), JENDL (Japan), JEFF (European). You can compare the different sources but for the exercize you should use JEFF-3.2. "
   ]
  },
  {
   "cell_type": "markdown",
   "metadata": {},
   "source": [
    "**Extract the data from one of the sources and plot it in Python (or your own choice of data analysis software).**\n",
    "\n",
    "You can extract the data from KAERI by pressing *Get Data*. Mark, copy and past the data into a text document and save it in the same folder as this Notebook. In this folder there is already data for $^{235}$U in files called *U235_xs_nf.txt* and *U235_xs_cap.txt*. Extract the data for $^{238}$U."
   ]
  },
  {
   "cell_type": "markdown",
   "metadata": {},
   "source": [
    "To import the data into Python and plot it we first need to import two libraries, *numpy* and *matplotlib*. Mark the cell below and execute it by pressing *Shift*+*Enter*."
   ]
  },
  {
   "cell_type": "code",
   "execution_count": null,
   "metadata": {},
   "outputs": [],
   "source": [
    "import numpy as np # We can now use numpy functions calling np\n",
    "import matplotlib.pyplot as plt # We can now use matplotlib functions calling plt\n",
    "plt.rcParams.update({'font.size': 11})"
   ]
  },
  {
   "cell_type": "markdown",
   "metadata": {},
   "source": [
    "We can now load the data using the *numpy* function *loadtxt*. Below is an example for the $^{235}$U data."
   ]
  },
  {
   "cell_type": "code",
   "execution_count": null,
   "metadata": {},
   "outputs": [],
   "source": [
    "U235_xs_nf = np.loadtxt('U235_xs_nf.csv', skiprows=3) # Use skiprows to skip header lines\n",
    "U235_xs_cap = np.loadtxt('U235_xs_cap.csv', skiprows=3)\n",
    "# Add rows to also load the U238 data.\n",
    "U238_xs_nf = np.loadtxt('U238_xs_nf.csv', skiprows=3) #By students\n",
    "U238_xs_cap = np.loadtxt('U238_xs_cap.csv', skiprows=3) #By students"
   ]
  },
  {
   "cell_type": "markdown",
   "metadata": {},
   "source": [
    "The data is now in the form of two-dimensional arrays with 40860 Energies in the 0:th column and 40860 cross sections in the 1:st column."
   ]
  },
  {
   "cell_type": "code",
   "execution_count": null,
   "metadata": {},
   "outputs": [],
   "source": [
    "U235_xs_nf.shape"
   ]
  },
  {
   "cell_type": "markdown",
   "metadata": {},
   "source": [
    "**Add rows above to also load the $^{238}U$ data.**"
   ]
  },
  {
   "cell_type": "markdown",
   "metadata": {},
   "source": [
    "We can address an individual colum (vaiable) using U235_xs_nf[:,i], where i is the column number (0 or 1). We plot it using the *pyplot* function *loglog*."
   ]
  },
  {
   "cell_type": "code",
   "execution_count": null,
   "metadata": {},
   "outputs": [],
   "source": [
    "plt.loglog(U235_xs_nf[:,0],U235_xs_nf[:,1],'r-',label='$^{235}$U $\\sigma_f$')\n",
    "\n",
    "# Add rows here to plot the other cross sections in the same plot\n",
    "plt.loglog(U235_xs_cap[:,0],U235_xs_cap[:,1],'r--',label='$^{235}$U $\\sigma_c$') # By students\n",
    "plt.loglog(U238_xs_nf[:,0],U238_xs_nf[:,1],'b-',label='$^{238}$U $\\sigma_f$') # By students\n",
    "plt.loglog(U238_xs_cap[:,0],U238_xs_cap[:,1],'b--',label='$^{238}$U $\\sigma_c$') # By students\n",
    "\n",
    "plt.legend()\n",
    "plt.xlabel('Energy (eV)')\n",
    "plt.ylabel('Cross section (barn)')\n",
    "plt.show()"
   ]
  },
  {
   "cell_type": "markdown",
   "metadata": {},
   "source": [
    "The function *loglog* is a version of the *pyplot* function *plot* which plots with both axis in logarithmic scale. You can find more information about *plot* here: [pyplot.plot](https://matplotlib.org/3.1.1/api/_as_gen/matplotlib.pyplot.plot.html#matplotlib.pyplot.plot)."
   ]
  },
  {
   "cell_type": "markdown",
   "metadata": {},
   "source": [
    "**Plot the other cross section in the same diagram. Change line styles and colors so that the lines can be distinguished.**"
   ]
  },
  {
   "cell_type": "markdown",
   "metadata": {},
   "source": [
    "Unfortunatly, the data files you have loaded have different number of energies and energy-steps. This means that if we want to do pointwize comparisons or calculations using the data we need to resample it to be evaluated at the same energies. This can be done by interpolation using the numpy function *interp*. First we create an array with the energies at which we would like to know the crossesctions."
   ]
  },
  {
   "cell_type": "code",
   "execution_count": null,
   "metadata": {},
   "outputs": [],
   "source": [
    "# Create an array with 100.000 energypoints logarthimically spaced between 10^-4 and 10^7.\n",
    "E = np.logspace(-4, 7, 100000)\n",
    "# Do the interpolation\n",
    "U235_nf = np.interp(E,U235_xs_nf[:,0],U235_xs_nf[:,1])\n",
    "\n",
    "# Add rows here for the other data sets\n",
    "U235_cap = np.interp(E,U235_xs_cap[:,0],U235_xs_cap[:,1]) #By students\n",
    "U238_nf = np.interp(E,U238_xs_nf[:,0],U238_xs_nf[:,1]) #By students\n",
    "U238_cap = np.interp(E,U238_xs_cap[:,0],U238_xs_cap[:,1]) #By students"
   ]
  },
  {
   "cell_type": "markdown",
   "metadata": {},
   "source": [
    "**Add rows above to also interpolate the other data at the same energies.**"
   ]
  },
  {
   "cell_type": "markdown",
   "metadata": {},
   "source": [
    "Plot the interpolated data to make sure it looks the same as the original."
   ]
  },
  {
   "cell_type": "code",
   "execution_count": null,
   "metadata": {},
   "outputs": [],
   "source": [
    "plt.loglog(E,U235_nf,'r-',label='$^{235}$U $\\sigma_f$')\n",
    "\n",
    "# Add rows here to plot the other cross sections in the same plot\n",
    "plt.loglog(E,U235_cap,'r--',label='$^{235}$U $\\sigma_c$') # By students\n",
    "plt.loglog(E,U238_nf,'b-',label='$^{235}$U $\\sigma_f$') # By students\n",
    "plt.loglog(E,U238_cap,'b--',label='$^{235}$U $\\sigma_c$') # By students\n",
    "\n",
    "plt.legend()\n",
    "plt.xlabel('Energy / eV')\n",
    "plt.ylabel('$\\sigma$ / barn')\n",
    "plt.show()"
   ]
  },
  {
   "cell_type": "markdown",
   "metadata": {},
   "source": [
    "From the microscoptic cross sections we can calculate the macroscopic cross sections."
   ]
  },
  {
   "cell_type": "markdown",
   "metadata": {},
   "source": [
    "**Calculate and the mactroscopic cross sections for $^{238}U$ and $^{235}U$ as a function of neutron energy.**"
   ]
  },
  {
   "cell_type": "code",
   "execution_count": null,
   "metadata": {},
   "outputs": [],
   "source": [
    "#U235_NF = U235_nf * # continue this calculation\n",
    "\n",
    "U235_NF = 0.007*U235_nf * 1E-24 * 19.1 * 6.023E23 /235 # By students\n",
    "U235_CAP = 0.007*U235_cap * 1E-24 * 19.1 * 6.023E23 /235 # By students\n",
    "U238_NF = 0.007*U238_nf * 1E-24 * 19.1 * 6.023E23 /238 # By students\n",
    "U238_CAP = 0.007*U238_cap * 1E-24 * 19.1 * 6.023E23 /238 # By students"
   ]
  },
  {
   "cell_type": "markdown",
   "metadata": {},
   "source": [
    "**Plot the macroscopic cross sections**"
   ]
  },
  {
   "cell_type": "code",
   "execution_count": null,
   "metadata": {},
   "outputs": [],
   "source": [
    "plt.loglog(E,U235_NF,'r-',label='$^{235}$U $\\Sigma_f$')\n",
    "# Add rows here\n",
    "plt.loglog(E,U235_CAP,'r--',label='$^{235}$U $\\Sigma_c$') # By students\n",
    "plt.loglog(E,U238_NF,'b-',label='$^{238}$U $\\Sigma_f$') # By students\n",
    "plt.loglog(E,U238_CAP,'b--',label='$^{238}$U $\\Sigma_c$') # By students\n",
    "plt.legend()\n",
    "plt.xlabel('Energy / eV')\n",
    "plt.ylabel('$\\Sigma$ / cm$^{-1}$')\n",
    "plt.show()"
   ]
  },
  {
   "cell_type": "markdown",
   "metadata": {},
   "source": [
    "Whether or not a self-sustained chain reaction can be achieved is governed by the competition between neutron absoprtion and fission.\n",
    "\n",
    "**Calculate (from the fission and capture cross sections) the macroscopic absorption cross sections for $^{235}$U and $^{238}$U and plot together with the fission cross sections.**"
   ]
  },
  {
   "cell_type": "code",
   "execution_count": null,
   "metadata": {},
   "outputs": [],
   "source": [
    "# U235_ABS = continue here...\n",
    "U235_ABS = U235_NF + U235_CAP # By students\n",
    "U238_ABS = U238_NF + U238_CAP # By students"
   ]
  },
  {
   "cell_type": "code",
   "execution_count": null,
   "metadata": {},
   "outputs": [],
   "source": [
    "plt.loglog(E,U235_NF,'r-',label='$^{235}$U $\\Sigma_f$')\n",
    "# Add rows here\n",
    "\n",
    "plt.loglog(E,U235_ABS,'r--',label='$^{235}$U $\\Sigma_a$') # By students\n",
    "plt.loglog(E,U238_NF,'b-',label='$^{238}$U $\\Sigma_f$') # By students\n",
    "plt.loglog(E,U238_ABS,'b--',label='$^{238}$U $\\Sigma_a$') # By students\n",
    "plt.legend()\n",
    "plt.xlabel('Energy / eV')\n",
    "plt.ylabel('$\\Sigma$ / cm$^{-1}$')\n",
    "plt.show()"
   ]
  },
  {
   "cell_type": "markdown",
   "metadata": {},
   "source": [
    "Natural uranium ($^{\\mathrm{nat}}$U) consists of 0.7% $^{235}$U and the rest is $^{238}$U.\\\n",
    "**Plot the mactroscopic cross sections, fission and absorption, of $^{nat}U$ as a function of neutron energy.**"
   ]
  },
  {
   "cell_type": "code",
   "execution_count": null,
   "metadata": {},
   "outputs": [],
   "source": [
    "# Put your code here..."
   ]
  },
  {
   "cell_type": "markdown",
   "metadata": {},
   "source": [
    "The reproduction factor, $\\eta(E)$, is the average number of fission neutrons produced per neutron absorbed. This is an important parameter when determining a reactor's neutron economy. To calculate it we need to know the average neutron multiplicity, $\\bar{\\nu}$. However, the neutron multiplicity depends on the material and the energy of the incoming neutron. Data for this can be found in the data tables. To help you we provide below a code to read this data from a text file (JEFF3.3).\n",
    "\n",
    "**Plot nubar for $^{235}$U and $^{238}$U as a function of energy**"
   ]
  },
  {
   "cell_type": "code",
   "execution_count": null,
   "metadata": {},
   "outputs": [],
   "source": [
    "nubar = np.loadtxt('U5_U8_nubar.csv', skiprows=3) # Use skiprows to skip header lines\n",
    "U235_nubar = np.interp(E,nubar[:,0],nubar[:,1])\n",
    "U238_nubar = np.interp(E,nubar[:,0],nubar[:,2])\n",
    "# Plot nubar here..."
   ]
  },
  {
   "cell_type": "markdown",
   "metadata": {},
   "source": [
    "**Calculate and plot the reproduction factor for natural uranium as well as for two different enrichments.**"
   ]
  },
  {
   "cell_type": "code",
   "execution_count": null,
   "metadata": {},
   "outputs": [],
   "source": [
    "# Put your code here..."
   ]
  },
  {
   "cell_type": "markdown",
   "metadata": {},
   "source": [
    "--------------"
   ]
  },
  {
   "cell_type": "markdown",
   "metadata": {},
   "source": [
    "## The following is not for student excersize. My demonstration."
   ]
  },
  {
   "cell_type": "code",
   "execution_count": null,
   "metadata": {},
   "outputs": [],
   "source": [
    "from __future__ import print_function\n",
    "from ipywidgets import interact, interactive, fixed, interact_manual\n",
    "import ipywidgets as widgets\n",
    "from ipywidgets import FloatSlider"
   ]
  },
  {
   "cell_type": "code",
   "execution_count": null,
   "metadata": {},
   "outputs": [],
   "source": [
    "def f(e_procent):\n",
    "    e=e_procent/100\n",
    "    Umix_NF = e*U235_NF + (1-e)*U238_NF\n",
    "    Umix_ABS = e*U235_ABS + (1-e)*U238_ABS\n",
    "    #plt.rcParams.update({'font.size': 24})\n",
    "    plt.figure(num=None, figsize=(16, 12), dpi=80)\n",
    "    plt.loglog(E,Umix_NF,'r-',label='U(n,f)')\n",
    "    plt.loglog(E,Umix_ABS,'r--',label='U(n,a)')\n",
    "    # Add row here to plot U238 in the same plot\n",
    "    plt.ylim([1e-13,1e1])\n",
    "    plt.legend()\n",
    "    plt.xlabel('Energy / eV')\n",
    "    plt.ylabel('$\\Sigma$ / cm$^{-1}$')\n",
    "    plt.show()\n",
    "    return e_procent\n",
    "\n",
    "\n",
    "interact(f, e_procent=FloatSlider(min=0.000,max=100.000,step=0.01,continuous_update=False));"
   ]
  },
  {
   "cell_type": "code",
   "execution_count": null,
   "metadata": {},
   "outputs": [],
   "source": [
    "def f(e_procent):\n",
    "    e=e_procent/100\n",
    "    Umix_NF = e*U235_NF + (1-e)*U238_NF\n",
    "    Umix_ABS = e*U235_ABS + (1-e)*U238_ABS\n",
    "    nubar = e*U235_nubar + (1-e)*U238_nubar\n",
    "    eta = nubar*Umix_NF/Umix_ABS\n",
    "    plt.rcParams.update({'font.size': 20})\n",
    "    plt.figure(num=None, figsize=(16, 12), dpi=80)\n",
    "    plt.semilogx(E,U235_nubar,'b-',label='$\\overline{\\\\nu}_{U235}$')\n",
    "    plt.semilogx(E,U238_nubar,'b--',label='$\\overline{\\\\nu}_{U238}$')\n",
    "    plt.semilogx(E,eta,'r-',label='$\\eta$')\n",
    "    \n",
    "    plt.ylim([0,3.5])\n",
    "    plt.legend()\n",
    "    plt.xlabel('Energy / eV')\n",
    "    plt.ylabel('')\n",
    "    \n",
    "    plt.show()\n",
    "    return e_procent\n",
    "\n",
    "\n",
    "interact(f, e_procent=FloatSlider(min=0.000,max=100.000,step=0.01,continuous_update=False));"
   ]
  },
  {
   "cell_type": "code",
   "execution_count": null,
   "metadata": {},
   "outputs": [],
   "source": []
  },
  {
   "cell_type": "code",
   "execution_count": null,
   "metadata": {},
   "outputs": [],
   "source": []
  }
 ],
 "metadata": {
  "kernelspec": {
   "display_name": "Python 3",
   "language": "python",
   "name": "python3"
  },
  "language_info": {
   "codemirror_mode": {
    "name": "ipython",
    "version": 3
   },
   "file_extension": ".py",
   "mimetype": "text/x-python",
   "name": "python",
   "nbconvert_exporter": "python",
   "pygments_lexer": "ipython3",
   "version": "3.7.3"
  }
 },
 "nbformat": 4,
 "nbformat_minor": 2
}
